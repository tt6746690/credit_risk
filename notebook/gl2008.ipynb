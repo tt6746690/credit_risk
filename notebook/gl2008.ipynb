{
 "cells": [
  {
   "cell_type": "code",
   "execution_count": null,
   "metadata": {},
   "outputs": [],
   "source": [
    "using Pkg; Pkg.activate(\"..\")"
   ]
  },
  {
   "cell_type": "code",
   "execution_count": null,
   "metadata": {},
   "outputs": [],
   "source": [
    "using CreditRisk\n",
    "using PyPlot"
   ]
  },
  {
   "cell_type": "markdown",
   "metadata": {},
   "source": [
    "### Example showing necessity of mixture of factor shifts"
   ]
  },
  {
   "cell_type": "code",
   "execution_count": null,
   "metadata": {},
   "outputs": [],
   "source": [
    "m = 1000\n",
    "t = 2\n",
    "pk = 0.05\n",
    "lk = 1\n",
    "q = 0.3\n",
    "\n",
    "a₁ = 0.7\n",
    "a₂ = 0.65\n",
    "b₁ = √0.51\n",
    "b₂ = √0.57\n",
    "\n",
    "α₁ = 1 - m^(-1/3)\n",
    "α₂ = 1 - (log(m))^(-1/2)\n",
    "\n",
    "Gh₁ = (α₁*invnormcdf(1-pk) + α₂*b₁*invnormcdf(q))/a₁\n",
    "Gh₂ = (α₁*invnormcdf(1-pk) + α₂*b₂*invnormcdf(q))/a₂\n",
    "\n",
    "Gh₁,Gh₂"
   ]
  },
  {
   "cell_type": "markdown",
   "metadata": {},
   "source": [
    "### Construct `Parameter`"
   ]
  },
  {
   "cell_type": "code",
   "execution_count": null,
   "metadata": {},
   "outputs": [],
   "source": [
    "N = 1000  # m\n",
    "C = 2     # 2\n",
    "S = 2     # d\n",
    "l = 0.3   # q\n",
    "\n",
    "cmm = zeros(N,C)\n",
    "p = 0.05\n",
    "cmm[:,1] .= p\n",
    "cmm[:,2] .= 1-p\n",
    "\n",
    "ead = zeros(N) .+ 1\n",
    "lgc = zeros(N,C)\n",
    "lgc[:,1] .= 0\n",
    "lgc[:,2] .= 1\n",
    "cn = fill(2,N)\n",
    "\n",
    "β = zeros(N,C)\n",
    "β[1:2:N,:] .= [0.7 0]\n",
    "β[2:2:N,:] .= [0 0.65]\n",
    "denom = @. sqrt(1 - $sum((β).^2, dims=2))\n",
    "denom = dropdims(denom; dims=2)\n",
    "\n",
    "# H[n, c] = inverse_unit_Gaussian(∑ᵧ cmm[c(n), γ])\n",
    "cum_cmm = cumsum(cmm, dims=2)\n",
    "H = invnormcdf.(cum_cmm)\n",
    "\n",
    "weights = zeros(N,C)\n",
    "weights = ead ./ sum(ead)\n",
    "weights = weights .* lgc\n",
    "\n",
    "param = Parameter(N, C, S, l, cmm, ead, lgc, cn, β, H, denom, weights)"
   ]
  },
  {
   "cell_type": "markdown",
   "metadata": {},
   "source": [
    "### plot the upper bound $F_x(z)$ of $log P(L>x | Z=z)$\n",
    "\n",
    "\n",
    "Tail bound approximation \n",
    "\n",
    "$$\n",
    "P(L>l | Z=z) ⫹ e^{F_x(z)}\n",
    "$$\n",
    "The upper bond given by \n",
    "$$\n",
    "Fₓ(z) = -θ_m(z)l + \\psi(θ_m(z),z)\n",
    "\\quad\\quad\n",
    "\\psi(θ_m(z),z) = \\sum_{n=1}^{N} \\ln \\sum_{c=1}^C p_n^c (z) e^{\\theta w_n^c}\n",
    "$$\n",
    "where\n",
    "$$\n",
    "\\psi(θ_m(z),z) = \\underset{\\theta}{argmin} \\{ -\\theta l + \\psi(z,\\theta) \\}\n",
    "$$\n",
    "\n",
    "In GL2005, outer level twisting amounts to finding `z` that\n",
    "\n",
    "$$\n",
    "\\underset{z}{max} P(L>x | Z=z) e^{-\\frac{1}{2}z^Tz}\n",
    "\\quad\n",
    "\\rightarrow\n",
    "\\quad\n",
    "\\underset{z}{max} \\{F_x(z) - \\frac{1}{2} z^Tz\\}\n",
    "$$\n",
    "\n",
    "Here we want to plot \n",
    "$$\n",
    "\\begin{align*}\n",
    "obj_1 &= Fₓ(z) \\\\\n",
    "obj_2 &= -log(-F_x(z) + \\frac{1}{2} z^Tz)\n",
    "\\end{align*}\n",
    "$$"
   ]
  },
  {
   "cell_type": "code",
   "execution_count": null,
   "metadata": {
    "scrolled": false
   },
   "outputs": [],
   "source": [
    "let (N, C, S, loss, cmm, ead, lgc, cn, β, H, denom, weights) = unpack(param)\n",
    "    span = 10     # [0, range]\n",
    "    step = 0.5\n",
    "\n",
    "\n",
    "    phi0 = zeros(N, C+1)\n",
    "    phi  = @view phi0[:,2:end]\n",
    "    pnc = zeros(N, C)\n",
    "\n",
    "    Ψ = init_Ψ()\n",
    "    innerlevel = InnerLevelTwisting(N, C)\n",
    "\n",
    "    let Fₓ(z) = begin\n",
    "        @. phi = normcdf((H - $(β*z)) / denom)\n",
    "        diff!(pnc, phi0; dims=2)\n",
    "        twist!(innerlevel, pnc, weights, loss)\n",
    "        θ = get_result(innerlevel)\n",
    "        -θ*l + Ψ(θ, pnc, weights)\n",
    "    end\n",
    "\n",
    "\n",
    "    xs = -span:step:span\n",
    "    ys = -span:step:span\n",
    "    obj₁ = zeros(length(xs),length(ys))\n",
    "    obj₂ = zeros(length(xs),length(ys))\n",
    "\n",
    "    for i in 1:length(xs)\n",
    "        for j in 1:length(ys)\n",
    "            z = [xs[i]; ys[j]]\n",
    "            obj₁[i,j] = Fₓ(z)\n",
    "            obj₂[i,j] = -log10(-obj₁[i,j] + 0.5z'z)\n",
    "        end\n",
    "    end        \n",
    "\n",
    "    fig = figure(figsize=(8,16))\n",
    "    ax = fig[:add_subplot](2,1,1, projection = \"3d\")\n",
    "#     ax[:view_init](elev=0, azim=90+180)\n",
    "    sf=ax[:plot_surface](xs, ys, obj₁,alpha=0.8,cmap=ColorMap(\"summer\"),antialiased=false)\n",
    "    ct=ax[:contour](xs, ys, obj₁,extend3d=false,zdir=\"z\",offset=minimum(obj₁),stride=0.2)\n",
    "    ax[:set_xlabel](\"z₁\")\n",
    "    ax[:set_ylabel](\"z₂\")\n",
    "    ax[:set_zlabel](\"Fₓ(z)\")\n",
    "    fig[:colorbar](sf,shrink=0.3)\n",
    "        \n",
    "    subplot(212)\n",
    "    ax = fig[:add_subplot](2,1,2, projection = \"3d\")\n",
    "    sf=ax[:plot_surface](xs, ys, obj₂,alpha=0.8,cmap=ColorMap(\"summer\"),antialiased=false)\n",
    "    ct=ax[:contour](xs, ys, obj₂,extend3d=false,zdir=\"z\",offset=minimum(obj₁),stride=0.2)\n",
    "    ax[:set_xlabel](\"z₁\")\n",
    "    ax[:set_ylabel](\"z₂\")\n",
    "    ax[:set_zlabel](\"-log(-Fₓ(z) + 0.5 z^Tz)\")\n",
    "    fig[:colorbar](sf,shrink=0.3)\n",
    "\n",
    "#     savefig(\"surf_obj1.pdf\", format=\"pdf\")\n",
    "    end\n",
    "end"
   ]
  },
  {
   "cell_type": "code",
   "execution_count": null,
   "metadata": {},
   "outputs": [],
   "source": [
    "log10(10)"
   ]
  },
  {
   "cell_type": "code",
   "execution_count": null,
   "metadata": {},
   "outputs": [],
   "source": [
    "# nz = 1000\n",
    "# ne = 1000\n",
    "# est = CreditRisk.bernoulli_mc(param,(nz,ne))\n",
    "# est"
   ]
  }
 ],
 "metadata": {
  "kernelspec": {
   "display_name": "Julia 0.7.0",
   "language": "julia",
   "name": "julia-0.7"
  },
  "language_info": {
   "file_extension": ".jl",
   "mimetype": "application/julia",
   "name": "julia",
   "version": "0.7.0"
  }
 },
 "nbformat": 4,
 "nbformat_minor": 2
}
