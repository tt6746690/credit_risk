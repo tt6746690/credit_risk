{
 "cells": [
  {
   "cell_type": "code",
   "execution_count": null,
   "metadata": {},
   "outputs": [],
   "source": [
    "using Pkg; Pkg.activate(\"..\")"
   ]
  },
  {
   "cell_type": "code",
   "execution_count": null,
   "metadata": {},
   "outputs": [],
   "source": [
    "using Revise\n",
    "using CreditRisk\n",
    "using Distributions\n",
    "using PyPlot\n",
    "import Random"
   ]
  },
  {
   "cell_type": "markdown",
   "metadata": {},
   "source": [
    "### Plotting inner level objective function"
   ]
  },
  {
   "cell_type": "code",
   "execution_count": null,
   "metadata": {},
   "outputs": [],
   "source": [
    "# n = 2000\n",
    "# c = 2\n",
    "# s = 2\n",
    "# l = 0.3\n",
    "# param = Parameter(n,c,s,l)\n",
    "N = 1000  # m\n",
    "C = 2     # 2\n",
    "S = 2     # d\n",
    "l = 0.3   # q\n",
    "\n",
    "cmm = zeros(N,C)\n",
    "p = 0.05\n",
    "cmm[:,1] .= p\n",
    "cmm[:,2] .= 1-p\n",
    "\n",
    "ead = zeros(N) .+ 1\n",
    "lgc = zeros(N,C)\n",
    "lgc[:,1] .= 1\n",
    "lgc[:,2] .= 0\n",
    "cn = fill(2,N)\n",
    "\n",
    "β = zeros(N,C)\n",
    "β[1:2:N,:] .= [0.7 0]\n",
    "β[2:2:N,:] .= [0 0.65]\n",
    "denom = @. sqrt(1 - $sum((β).^2, dims=2))\n",
    "denom = dropdims(denom; dims=2)\n",
    "\n",
    "# H[n, c] = inverse_unit_Gaussian(∑ᵧ cmm[c(n), γ])\n",
    "cum_cmm = cumsum(cmm, dims=2)\n",
    "H = invnormcdf.(cum_cmm)\n",
    "\n",
    "weights = zeros(N,C)\n",
    "weights = ead ./ sum(ead)\n",
    "weights = weights .* lgc\n",
    "\n",
    "param = Parameter(N, C, S, l, cmm, ead, lgc, cn, β, H, denom, weights)"
   ]
  },
  {
   "cell_type": "code",
   "execution_count": null,
   "metadata": {},
   "outputs": [],
   "source": [
    "(N, C, S, l, cmm, ead, lgc, cn, β, H, denom, weights) = unpack(param)\n",
    "\n",
    "Ψ = init_Ψ()\n",
    "\n",
    "Zdist = MvNormal(S, 1)\n",
    "Z = zeros(S)\n",
    "pnc = zeros(N, C)\n",
    "phi0 = zeros(N, C+1)\n",
    "phi  = @view phi0[:,2:end]\n",
    "twist = zeros(N, C)\n",
    "mgf = zeros(N)\n",
    "qnc = zeros(N, C)\n",
    "\n",
    "Random.rand!(Zdist, Z)\n",
    "@. phi = normcdf((H - $(β*Z)) / denom)\n",
    "diff!(pnc, phi0; dims=2)\n",
    "\n",
    "objective(θ) = begin\n",
    "    θ = θ[1]\n",
    "    Ψ(θ, pnc, weights) - θ*l\n",
    "end\n",
    "\n",
    "xs = -10000:10000\n",
    "ys = [objective([x]) for x in xs]\n",
    "display(plot(xs, ys))"
   ]
  },
  {
   "cell_type": "markdown",
   "metadata": {},
   "source": [
    "### Plotting outer level objective function"
   ]
  },
  {
   "cell_type": "code",
   "execution_count": null,
   "metadata": {},
   "outputs": [],
   "source": [
    "s = 2         \n",
    "range = 5     # [-range, range]\n",
    "step = 0.1\n",
    "tails = [0.2]\n",
    "\n",
    "for tail in tails\n",
    "    param = Parameter(n,c,s,tail)\n",
    "    (N, C, S, loss, cmm, ead, lgc, cn, β, H, denom, weights) = unpack(param)\n",
    "\n",
    "    phi0 = zeros(N, C+1)\n",
    "    phi  = @view phi0[:,2:end]\n",
    "    pnc = zeros(N, C)\n",
    "\n",
    "    Ψ = init_Ψ()\n",
    "    innerlevel = InnerLevelTwisting(N, C)\n",
    "\n",
    "    objective(z) = begin\n",
    "        @. phi = normcdf((H - $(β*z)) / denom)\n",
    "        diff!(pnc, phi0; dims=2)\n",
    "        twist!(innerlevel, pnc, weights, loss)\n",
    "        θ = get_result(innerlevel)\n",
    "        θ*l - Ψ(θ, pnc, weights) + 0.5z'z\n",
    "    end\n",
    "\n",
    "    xs = -range:step:range\n",
    "    ys = -range:step:range\n",
    "    zs = [objective([x, y]) for x in xs, y in ys]\n",
    "\n",
    "    display(surf(xs, ys, zs))\n",
    "#     savefig(\"surf_$loss.pdf\", format=\"pdf\")\n",
    "end"
   ]
  },
  {
   "cell_type": "code",
   "execution_count": null,
   "metadata": {},
   "outputs": [],
   "source": []
  }
 ],
 "metadata": {
  "kernelspec": {
   "display_name": "Julia 0.7.0",
   "language": "julia",
   "name": "julia-0.7"
  },
  "language_info": {
   "file_extension": ".jl",
   "mimetype": "application/julia",
   "name": "julia",
   "version": "0.7.0"
  }
 },
 "nbformat": 4,
 "nbformat_minor": 2
}
