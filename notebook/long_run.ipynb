{
 "cells": [
  {
   "cell_type": "code",
   "execution_count": 1,
   "metadata": {
    "collapsed": false
   },
   "outputs": [
    {
     "data": {
      "text/plain": [
       "\"/Users/markwang/github/credit_risk/Project.toml\""
      ]
     },
     "execution_count": 1,
     "metadata": {},
     "output_type": "execute_result"
    }
   ],
   "source": [
    "using Pkg; Pkg.activate(\"..\")"
   ]
  },
  {
   "cell_type": "code",
   "execution_count": 3,
   "metadata": {
    "collapsed": true
   },
   "outputs": [],
   "source": [
    "using Revise\n",
    "using PyPlot\n",
    "using Serialization\n",
    "import CreditRisk"
   ]
  },
  {
   "cell_type": "code",
   "execution_count": 4,
   "metadata": {
    "collapsed": true
   },
   "outputs": [],
   "source": [
    "using DelimitedFiles"
   ]
  },
  {
   "cell_type": "code",
   "execution_count": 12,
   "metadata": {
    "collapsed": false
   },
   "outputs": [
    {
     "name": "stderr",
     "output_type": "stream",
     "text": [
      "┌ Warning: Deprecated syntax `implicit assignment to global variable `l``.\n",
      "│ Use `global l` instead.\n",
      "└ @ nothing none:0\n"
     ]
    },
    {
     "name": "stdout",
     "output_type": "stream",
     "text": [
      " 86.328938 seconds (421.57 M allocations: 9.632 GiB, 2.55% gc time)\n",
      "../out/bernoulli_ninit_1_n_2500_c_4_s_5_l_0.1_ne_10000_rep_0 has 5117092 entries\n",
      " 95.866874 seconds (455.89 M allocations: 10.416 GiB, 2.37% gc time)\n",
      "../out/bernoulli_ninit_1_n_2500_c_4_s_5_l_0.1_ne_10000_rep_1 has 5533562 entries\n",
      " 85.714928 seconds (422.87 M allocations: 9.662 GiB, 2.35% gc time)\n",
      "../out/bernoulli_ninit_1_n_2500_c_4_s_5_l_0.1_ne_10000_rep_2 has 5132916 entries\n",
      " 83.220708 seconds (440.47 M allocations: 10.058 GiB, 2.33% gc time)\n",
      "../out/bernoulli_ninit_1_n_2500_c_4_s_5_l_0.2_ne_10000_rep_0 has 5068083 entries\n",
      " 89.943466 seconds (442.74 M allocations: 10.109 GiB, 2.24% gc time)\n",
      "../out/bernoulli_ninit_1_n_2500_c_4_s_5_l_0.2_ne_10000_rep_1 has 5080650 entries\n",
      "160.481074 seconds (806.85 M allocations: 18.425 GiB, 2.30% gc time)\n",
      "../out/bernoulli_ninit_1_n_2500_c_4_s_5_l_0.2_ne_10000_rep_2 has 9342193 entries\n",
      " 94.023373 seconds (493.26 M allocations: 11.258 GiB, 2.44% gc time)\n",
      "../out/bernoulli_ninit_1_n_2500_c_4_s_5_l_0.3_ne_10000_rep_0 has 5449967 entries\n",
      "160.778165 seconds (872.86 M allocations: 19.922 GiB, 2.25% gc time)\n",
      "../out/bernoulli_ninit_1_n_2500_c_4_s_5_l_0.3_ne_10000_rep_1 has 9607324 entries\n",
      " 88.042129 seconds (472.10 M allocations: 10.773 GiB, 2.33% gc time)\n",
      "../out/bernoulli_ninit_1_n_2500_c_4_s_5_l_0.3_ne_10000_rep_2 has 5106742 entries\n",
      " 81.586468 seconds (442.28 M allocations: 10.100 GiB, 2.33% gc time)\n",
      "../out/bernoulli_ninit_1_n_2500_c_4_s_5_l_0.4_ne_10000_rep_0 has 5103560 entries\n",
      " 86.565813 seconds (445.60 M allocations: 10.174 GiB, 2.34% gc time)\n",
      "../out/bernoulli_ninit_1_n_2500_c_4_s_5_l_0.4_ne_10000_rep_1 has 5068392 entries\n",
      " 81.720323 seconds (440.34 M allocations: 10.055 GiB, 2.52% gc time)\n",
      "../out/bernoulli_ninit_1_n_2500_c_4_s_5_l_0.4_ne_10000_rep_2 has 5095685 entries\n",
      "  9.154215 seconds (48.13 M allocations: 1.100 GiB, 1.73% gc time)\n",
      "../out/glassermanli_ninit_5_n_2500_c_4_s_5_l_0.1_ne_10000_rep_0 has 586001 entries\n",
      "  9.272549 seconds (48.09 M allocations: 1.099 GiB, 3.30% gc time)\n",
      "../out/glassermanli_ninit_5_n_2500_c_4_s_5_l_0.1_ne_10000_rep_1 has 587237 entries\n",
      "  5.351650 seconds (27.95 M allocations: 653.883 MiB, 3.62% gc time)\n",
      "../out/glassermanli_ninit_5_n_2500_c_4_s_5_l_0.1_ne_10000_rep_2 has 339380 entries\n",
      "  9.765907 seconds (49.75 M allocations: 1.136 GiB, 1.59% gc time)\n",
      "../out/glassermanli_ninit_5_n_2500_c_4_s_5_l_0.2_ne_10000_rep_0 has 567037 entries\n",
      "  9.362147 seconds (51.71 M allocations: 1.180 GiB, 2.60% gc time)\n",
      "../out/glassermanli_ninit_5_n_2500_c_4_s_5_l_0.2_ne_10000_rep_1 has 580941 entries\n",
      "  5.444938 seconds (29.84 M allocations: 697.630 MiB, 3.16% gc time)\n",
      "../out/glassermanli_ninit_5_n_2500_c_4_s_5_l_0.2_ne_10000_rep_2 has 341450 entries\n",
      "  5.582467 seconds (31.16 M allocations: 728.169 MiB, 1.44% gc time)\n",
      "../out/glassermanli_ninit_5_n_2500_c_4_s_5_l_0.3_ne_10000_rep_0 has 337379 entries\n",
      "  6.135312 seconds (31.57 M allocations: 737.778 MiB, 3.23% gc time)\n",
      "../out/glassermanli_ninit_5_n_2500_c_4_s_5_l_0.3_ne_10000_rep_1 has 340156 entries\n",
      "  9.755378 seconds (51.33 M allocations: 1.171 GiB, 1.52% gc time)\n",
      "../out/glassermanli_ninit_5_n_2500_c_4_s_5_l_0.3_ne_10000_rep_2 has 550882 entries\n",
      "  6.139864 seconds (30.32 M allocations: 708.817 MiB, 3.09% gc time)\n",
      "../out/glassermanli_ninit_5_n_2500_c_4_s_5_l_0.4_ne_10000_rep_0 has 337908 entries\n",
      "  5.370683 seconds (30.22 M allocations: 706.467 MiB, 1.49% gc time)\n",
      "../out/glassermanli_ninit_5_n_2500_c_4_s_5_l_0.4_ne_10000_rep_1 has 336599 entries\n",
      " 10.089207 seconds (51.11 M allocations: 1.167 GiB, 2.67% gc time)\n",
      "../out/glassermanli_ninit_5_n_2500_c_4_s_5_l_0.4_ne_10000_rep_2 has 570656 entries\n"
     ]
    }
   ],
   "source": [
    "# serialize txt -> binary for faster IO\n",
    "out = \"../out\"\n",
    "for path in readdir(out)\n",
    "    path = joinpath(out, path)\n",
    "    @time l = readdlm(path, Float64)\n",
    "    println(\"$path has $(length(l)) entries\")\n",
    "    open(\"$path.ser\", \"w\") do io\n",
    "        serialize(io, l)\n",
    "    end\n",
    "end"
   ]
  },
  {
   "cell_type": "code",
   "execution_count": 7,
   "metadata": {
    "collapsed": false
   },
   "outputs": [
    {
     "name": "stdout",
     "output_type": "stream",
     "text": [
      "  0.534786 seconds (459.11 k allocations: 61.913 MiB, 2.60% gc time)\n"
     ]
    },
    {
     "data": {
      "text/plain": [
       "10-element Array{Float64,1}:\n",
       " 0.622             \n",
       " 0.624             \n",
       " 0.6213333333333333\n",
       " 0.609             \n",
       " 0.6044            \n",
       " 0.6013333333333334\n",
       " 0.5994285714285714\n",
       " 0.5975            \n",
       " 0.5971111111111111\n",
       " 0.5954            "
      ]
     },
     "execution_count": 7,
     "metadata": {},
     "output_type": "execute_result"
    }
   ],
   "source": [
    "f = open(\"test\", \"r\")\n",
    "@time ll = deserialize(f)\n",
    "close(f)\n",
    "size(ll)\n",
    "ll[1:10]"
   ]
  },
  {
   "cell_type": "code",
   "execution_count": null,
   "metadata": {
    "collapsed": true
   },
   "outputs": [],
   "source": []
  }
 ],
 "metadata": {
  "kernelspec": {
   "display_name": "Julia 0.7.0",
   "language": "julia",
   "name": "julia-0.7"
  },
  "language_info": {
   "file_extension": ".jl",
   "mimetype": "application/julia",
   "name": "julia",
   "version": "0.7.0"
  }
 },
 "nbformat": 4,
 "nbformat_minor": 0
}
