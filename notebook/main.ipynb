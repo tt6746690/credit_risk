{
 "cells": [
  {
   "cell_type": "markdown",
   "metadata": {},
   "source": [
    "# Goal\n",
    "\n",
    "- Compare the different algorithms, in particular `onelvlISCLT_mc`"
   ]
  },
  {
   "cell_type": "code",
   "execution_count": null,
   "metadata": {
    "collapsed": false
   },
   "outputs": [],
   "source": [
    "using Pkg; Pkg.activate(\"..\")"
   ]
  },
  {
   "cell_type": "code",
   "execution_count": null,
   "metadata": {
    "collapsed": false,
    "scrolled": true
   },
   "outputs": [],
   "source": [
    "using Revise\n",
    "using PyPlot\n",
    "using Serialization\n",
    "import CreditRisk"
   ]
  },
  {
   "cell_type": "code",
   "execution_count": null,
   "metadata": {
    "collapsed": false
   },
   "outputs": [],
   "source": [
    "n = 2500\n",
    "c = 4\n",
    "s = 5\n",
    "l = 0.2\n",
    "nz = 1000\n",
    "ne = 1000\n",
    "param = CreditRisk.Parameter(n,c,s,l)"
   ]
  },
  {
   "cell_type": "code",
   "execution_count": null,
   "metadata": {
    "collapsed": false
   },
   "outputs": [],
   "source": [
    "open(\"param_n$(n)_c$(c)_s$(s)_l$(l)\", \"w\") do io\n",
    "    serialize(io, param)\n",
    "end"
   ]
  },
  {
   "cell_type": "code",
   "execution_count": null,
   "metadata": {
    "collapsed": false
   },
   "outputs": [],
   "source": [
    "open(\"param_n$(n)_c$(c)_s$(s)_l$(l)\", \"r\") do io\n",
    "    param2 = deserialize(io)\n",
    "    display(param2)\n",
    "end"
   ]
  },
  {
   "cell_type": "code",
   "execution_count": null,
   "metadata": {
    "collapsed": false
   },
   "outputs": [],
   "source": [
    "io = IOBuffer()\n",
    "estimate = CreditRisk.glassermanli_mc(param, (100,100), (nothing, nothing, 5), io)\n",
    "println(estimate)\n",
    "estimates = String(take!(io))\n",
    "println(\"---\")\n",
    "println(estimates[end-100:end])"
   ]
  },
  {
   "cell_type": "code",
   "execution_count": null,
   "metadata": {
    "collapsed": true
   },
   "outputs": [],
   "source": []
  }
 ],
 "metadata": {
  "kernelspec": {
   "display_name": "Julia 0.7.0",
   "language": "julia",
   "name": "julia-0.7"
  },
  "language_info": {
   "file_extension": ".jl",
   "mimetype": "application/julia",
   "name": "julia",
   "version": "0.7.0"
  }
 },
 "nbformat": 4,
 "nbformat_minor": 0
}
