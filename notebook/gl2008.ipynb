{
 "cells": [
  {
   "cell_type": "code",
   "execution_count": null,
   "metadata": {},
   "outputs": [],
   "source": [
    "using Pkg; Pkg.activate(\"..\")"
   ]
  },
  {
   "cell_type": "code",
   "execution_count": null,
   "metadata": {},
   "outputs": [],
   "source": [
    "using Revise\n",
    "using CreditRisk\n",
    "using PyPlot\n",
    "using Distributions\n",
    "import Random"
   ]
  },
  {
   "cell_type": "markdown",
   "metadata": {},
   "source": [
    "### Example showing necessity of mixture of factor shifts"
   ]
  },
  {
   "cell_type": "code",
   "execution_count": null,
   "metadata": {},
   "outputs": [],
   "source": [
    "m = 1000\n",
    "t = 2\n",
    "pk = 0.05\n",
    "lk = 1\n",
    "q = 0.3\n",
    "\n",
    "a₁ = 0.7\n",
    "a₂ = 0.65\n",
    "b₁ = √0.51\n",
    "b₂ = √0.57\n",
    "\n",
    "α₁ = 1 - m^(-1/3)\n",
    "α₂ = 1 - (log(m))^(-1/2)\n",
    "\n",
    "Gh₁ = (α₁*invnormcdf(1-pk) + α₂*b₁*invnormcdf(q))/a₁\n",
    "Gh₂ = (α₁*invnormcdf(1-pk) + α₂*b₂*invnormcdf(q))/a₂\n",
    "\n",
    "Gh₁,Gh₂"
   ]
  },
  {
   "cell_type": "markdown",
   "metadata": {},
   "source": [
    "### Construct `Parameter`"
   ]
  },
  {
   "cell_type": "code",
   "execution_count": null,
   "metadata": {},
   "outputs": [],
   "source": [
    "N = 1000  # m\n",
    "C = 2     # 2\n",
    "S = 2     # d\n",
    "l = 0.3   # q\n",
    "\n",
    "cmm = zeros(N,C)\n",
    "p = 0.05\n",
    "cmm[:,1] .= p\n",
    "cmm[:,2] .= 1-p\n",
    "\n",
    "ead = zeros(N) .+ 1\n",
    "lgc = zeros(N,C)\n",
    "lgc[:,1] .= 1\n",
    "lgc[:,2] .= 0\n",
    "cn = fill(2,N)\n",
    "\n",
    "β = zeros(N,C)\n",
    "β[1:2:N,:] .= [0.7 0]\n",
    "β[2:2:N,:] .= [0 0.65]\n",
    "denom = @. sqrt(1 - $sum((β).^2, dims=2))\n",
    "denom = dropdims(denom; dims=2)\n",
    "\n",
    "# H[n, c] = inverse_unit_Gaussian(∑ᵧ cmm[c(n), γ])\n",
    "cum_cmm = cumsum(cmm, dims=2)\n",
    "H = invnormcdf.(cum_cmm)\n",
    "\n",
    "weights = zeros(N,C)\n",
    "weights = ead ./ sum(ead)\n",
    "weights = weights .* lgc\n",
    "\n",
    "param = Parameter(N, C, S, l, cmm, ead, lgc, cn, β, H, denom, weights)"
   ]
  },
  {
   "cell_type": "markdown",
   "metadata": {},
   "source": [
    "#### Visualize inner level objective function"
   ]
  },
  {
   "cell_type": "code",
   "execution_count": null,
   "metadata": {
    "scrolled": false
   },
   "outputs": [],
   "source": [
    "(N, C, S, l, cmm, ead, lgc, cn, β, H, denom, weights) = unpack(param)\n",
    "\n",
    "Ψ = init_Ψ()\n",
    "\n",
    "Zdist = MvNormal(S, 1)\n",
    "Z = zeros(S)\n",
    "pnc = zeros(N, C)\n",
    "phi0 = zeros(N, C+1)\n",
    "phi  = @view phi0[:,2:end]\n",
    "twist = zeros(N, C)\n",
    "mgf = zeros(N)\n",
    "qnc = zeros(N, C)\n",
    "\n",
    "Random.rand!(Zdist, Z)\n",
    "@. phi = normcdf((H - $(β*Z)) / denom)\n",
    "diff!(pnc, phi0; dims=2)\n",
    "\n",
    "objective(θ) = begin\n",
    "    θ = θ[1]\n",
    "    Ψ(θ, pnc, weights) - θ*l\n",
    "end\n",
    "\n",
    "xs = -10000:10000\n",
    "ys = [objective([x]) for x in xs]\n",
    "display(plot(xs, ys))"
   ]
  },
  {
   "cell_type": "markdown",
   "metadata": {},
   "source": [
    "### plot the upper bound $F_x(z)$ of $log P(L>x | Z=z)$\n",
    "\n",
    "\n",
    "Tail bound approximation \n",
    "\n",
    "$$\n",
    "P(L>l | Z=z) \\leq e^{F_x(z)}\n",
    "$$\n",
    "The upper bond given by \n",
    "$$\n",
    "Fₓ(z) = -θ_m(z)l + \\psi(θ_m(z),z)\n",
    "\\quad\\quad\n",
    "\\psi(\\theta,z) = \\sum_{n=1}^{N} \\ln \\sum_{c=1}^C p_n^c (z) e^{\\theta w_n^c}\n",
    "$$\n",
    "where\n",
    "$$\n",
    "θ_m(z) = \\underset{\\theta\\geq 0}{argmin} \\{ -\\theta l + \\psi(\\theta,z) \\}\n",
    "$$\n",
    "\n",
    "In GL2005, outer level twisting amounts to finding `z` that\n",
    "\n",
    "$$\n",
    "\\underset{z}{max} P(L>x | Z=z) e^{-\\frac{1}{2}z^Tz}\n",
    "\\quad\n",
    "\\rightarrow\n",
    "\\quad\n",
    "\\underset{z}{max} \\{F_x(z) - \\frac{1}{2} z^Tz\\}\n",
    "$$\n",
    "\n",
    "Here we want to plot \n",
    "$$\n",
    "\\begin{align*}\n",
    "obj_1 &= F_x(z) \\\\\n",
    "obj_2 &= e^{F_x(z) - \\frac{1}{2} z^Tz} \\\\ \n",
    "obj_3 &= -log(-F_x(z) + \\frac{1}{2} z^Tz)\n",
    "\\end{align*}\n",
    "$$\n",
    "Note $obj_1$ is the minimal value for the inner objective function, $obj_2$ is the proxy used for the zero-IS distribution"
   ]
  },
  {
   "cell_type": "code",
   "execution_count": null,
   "metadata": {
    "scrolled": false
   },
   "outputs": [],
   "source": [
    "(N, C, S, loss, cmm, ead, lgc, cn, β, H, denom, weights) = unpack(param)\n",
    "\n",
    "phi0 = zeros(N, C+1)\n",
    "phi  = @view phi0[:,2:end]\n",
    "pnc = zeros(N, C)\n",
    "Ψ = init_Ψ()\n",
    "innerlevel = InnerLevelTwisting(N, C)\n",
    "\n",
    "# xs = -span:step:span\n",
    "# ys = -span:step:span\n",
    "\n",
    "span = -3     # [0, range]\n",
    "step = -0.025\n",
    "\n",
    "xs = 0:step:span\n",
    "ys = 0:step:span\n",
    "\n",
    "θs   = zeros(length(xs),length(ys))\n",
    "obj₁ = zeros(length(xs),length(ys))\n",
    "obj₂ = zeros(length(xs),length(ys))\n",
    "obj₃ = zeros(length(xs),length(ys))\n",
    "\n",
    "Fₓ(z) = begin\n",
    "    @. phi = normcdf((H - $(β*z)) / denom)\n",
    "    diff!(pnc, phi0; dims=2)\n",
    "    twist!(innerlevel, pnc, weights, loss)\n",
    "    θ = get_result(innerlevel)\n",
    "    Fxz = -θ*l + Ψ(θ, pnc, weights)\n",
    "    return θ, Fxz # minimizer, f(minimizer)\n",
    "    end\n",
    "\n",
    "for i in 1:length(xs)\n",
    "    for j in 1:length(ys)\n",
    "        z = [xs[i]; ys[j]]\n",
    "        θ, Fxz = Fₓ(z)\n",
    "        θs[i,j] = θ\n",
    "        obj₁[i,j] = Fxz\n",
    "        obj₂[i,j] = ℯ^(obj₁[i,j] - 0.5z'z)\n",
    "        obj₃[i,j] = -log10(-obj₁[i,j] + 0.5z'z)\n",
    "    end\n",
    "end"
   ]
  },
  {
   "cell_type": "code",
   "execution_count": null,
   "metadata": {
    "scrolled": false
   },
   "outputs": [],
   "source": [
    "outerlevelsurf(fig,xs,ys,zs,layout,title) = begin\n",
    "    nr,nc,nfig = map(x -> parse(Int64,x), collect(layout))\n",
    "    ax = fig.add_subplot(nr,nc,nfig,projection=\"3d\")\n",
    "    ax[:view_init](elev=30, azim=45+10)\n",
    "    sf = plot_surface(xs, ys, zs, rstride=2,edgecolors=\"k\", cstride=2, cmap=ColorMap(\"summer\"), alpha=0.8, linewidth=0.25)\n",
    "    ct = contour(xs, ys, zs, extend3d=false,zdir=\"z\",offset=minimum(zs),stride=0.2)\n",
    "    clabel(ct, inline=1, fontsize=10)\n",
    "    xlabel(\"z₁\"); ylabel(\"z₂\")\n",
    "    PyPlot.title(title)\n",
    "    tight_layout()\n",
    "    fig[:colorbar](sf,shrink=0.2)\n",
    "end\n",
    "\n",
    "fig = figure(\"plots\",figsize=(20,16))\n",
    "outerlevelsurf(fig,xs,ys,θs,  \"221\",\"θ_m\")\n",
    "outerlevelsurf(fig,xs,ys,obj₁,\"222\",\"Fₓ(z) = -θ_m*l + ψ(θ_m, z)\")\n",
    "outerlevelsurf(fig,xs,ys,obj₂,\"223\",\"exp(Fₓ(z) - 0.5*z'z)\")\n",
    "outerlevelsurf(fig,xs,ys,obj₃,\"224\",\"-log(-Fₓ(z) + 0.5*z'z)\")"
   ]
  },
  {
   "cell_type": "code",
   "execution_count": null,
   "metadata": {},
   "outputs": [],
   "source": [
    "stringbuf2array(str) = begin\n",
    "    l = split(str, \"\\n\")\n",
    "    filter!(x -> x ≠ \"\", l)\n",
    "    return map(x -> parse(Float64,x), l)\n",
    "end\n",
    "\n",
    "nz, ne = 1000,1000\n",
    "estimates = Dict()\n",
    "\n",
    "# crude monte carlo\n",
    "io = IOBuffer()\n",
    "@time CreditRisk.bernoulli_mc(param, (nz, ne), io)\n",
    "estimates[\"CMC\"] = stringbuf2array(String(take!(io)))\n",
    "\n",
    "# GL with 1 shift\n",
    "io = IOBuffer()\n",
    "@time CreditRisk.gl2005_mc(param, (nz, ne), ([-2.49748; -0.46698],nothing, 1), io)\n",
    "estimates[\"MC1\"] = stringbuf2array(String(take!(io)))\n",
    "\n",
    "# mixture of shifts\n",
    "io = IOBuffer()\n",
    "μs = [1.7834 0; 0 1.8977]\n",
    "@time CreditRisk.gl2008_mc(param, (500,500), (μs, nothing, 1), io)\n",
    "estimates[\"MIS\"] = stringbuf2array(String(take!(io)))\n",
    "\n",
    "\"\""
   ]
  },
  {
   "cell_type": "code",
   "execution_count": null,
   "metadata": {},
   "outputs": [],
   "source": [
    "for (algo,vs) in estimates\n",
    "    is = 1:length(vs)\n",
    "    xs = is.*500\n",
    "    plot(xs[1:200],vs[1:200],label=algo)\n",
    "end\n",
    "xlabel(\"number of iterations\")\n",
    "ylabel(\"P(L>l)\")\n",
    "ylim(0.005,0.02)\n",
    "grid(\"on\")\n",
    "title(\"different algos' performance\")\n",
    "legend()"
   ]
  },
  {
   "cell_type": "code",
   "execution_count": null,
   "metadata": {},
   "outputs": [],
   "source": []
  }
 ],
 "metadata": {
  "kernelspec": {
   "display_name": "Julia 0.7.0",
   "language": "julia",
   "name": "julia-0.7"
  },
  "language_info": {
   "file_extension": ".jl",
   "mimetype": "application/julia",
   "name": "julia",
   "version": "0.7.0"
  }
 },
 "nbformat": 4,
 "nbformat_minor": 2
}
