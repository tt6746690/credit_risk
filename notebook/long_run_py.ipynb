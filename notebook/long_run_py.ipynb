{
 "cells": [
  {
   "cell_type": "code",
   "execution_count": null,
   "metadata": {
    "collapsed": true
   },
   "outputs": [],
   "source": [
    "from math import log\n",
    "\n",
    "import re\n",
    "import os\n",
    "import matplotlib\n",
    "import matplotlib.pyplot as plt\n",
    "import numpy as np\n",
    "import pandas as pd\n",
    "import scipy"
   ]
  },
  {
   "cell_type": "code",
   "execution_count": null,
   "metadata": {
    "collapsed": true
   },
   "outputs": [],
   "source": [
    "out = \"../data\"\n",
    "rows = []\n",
    "\n",
    "for path in os.listdir(out):\n",
    "    if path.endswith(\".ser\"):\n",
    "        continue\n",
    "    m = re.match(r\"^([a-z]+)_ninit_(\\d+)_n_(\\d+)_c_(\\d+)_s_(\\d+)_l_(\\d+.\\d+)_ne_(\\d+)_rep_(\\d+)\", path)\n",
    "    if m is not None:\n",
    "        algo, n_init, n, c, s, l, ne, rep = m.groups()\n",
    "    else:\n",
    "        raise\n",
    "\n",
    "    path = os.path.join(out, path)\n",
    "    df = pd.read_csv(path, dtype=np.float64)\n",
    "\n",
    "    nz = len(l) * 500 / 10000\n",
    "    \n",
    "    row = {\n",
    "        \"algo\": algo,\n",
    "        \"n_init\": int(n_init),\n",
    "        \"n\": int(n),\n",
    "        \"c\": int(c),\n",
    "        \"s\": int(s),\n",
    "        \"l\": float(l),\n",
    "        \"nz\": int(nz),\n",
    "        \"ne\": int(ne),\n",
    "        \"rep\": int(rep),\n",
    "        \"df\": df\n",
    "    }\n",
    "    rows.append(row)"
   ]
  },
  {
   "cell_type": "code",
   "execution_count": null,
   "metadata": {
    "collapsed": true
   },
   "outputs": [],
   "source": [
    "# truncate to lowest number of iterations\n",
    "truncate = False\n",
    "if truncate:\n",
    "    lowest_it = min(len(x['df']) for x in rows)\n",
    "    for row in rows:\n",
    "        row['df'] = row['df'][:lowest_it]\n",
    "\n",
    "        \n",
    "lowest_it = {}\n",
    "for n in [200, 400, 800, 1600]:\n",
    "    lowest_it[n] = min([len(x['df']) for x in rows if x['n'] == n])\n",
    "\n",
    "for row in rows:\n",
    "    row['df'] = row['df'][:lowest_it[row['n']]]\n",
    "\n"
   ]
  },
  {
   "cell_type": "code",
   "execution_count": null,
   "metadata": {
    "collapsed": true,
    "scrolled": false
   },
   "outputs": [],
   "source": [
    "\n",
    "for tail in [0.1, 0.2, 0.3, 0.4]:\n",
    "    for row in rows:\n",
    "        if row['l'] == tail:\n",
    "            xs = np.linspace(0, len(row['df']), len(row['df']))\n",
    "            ys = row['df']\n",
    "            print(len(ys))\n",
    "            c = 'r' if row['algo'] == \"bernoulli\" else 'g'\n",
    "            plt.plot(xs, ys, c=c, label=row['algo'])\n",
    "\n",
    "    title = \"log_mc_estimate_vs_nz_(n={}_c={}_s={}_l={}_ne={})\".format(2500, 4, 5, tail, 10000)\n",
    "    plt.title(title)\n",
    "    plt.rcParams[\"figure.figsize\"] = (15,15)\n",
    "    plt.yscale('log')\n",
    "    plt.ylabel(\"mc estimate\")\n",
    "    plt.xlabel(\"nz\")\n",
    "    plt.legend()\n",
    "    plt.show()"
   ]
  },
  {
   "cell_type": "code",
   "execution_count": null,
   "metadata": {
    "scrolled": false
   },
   "outputs": [],
   "source": [
    "tail = 0.2\n",
    "for n in [200, 400, 800, 1600]:\n",
    "    for row in rows:\n",
    "        if row['n'] == n:\n",
    "            ys = np.array(row['df'])[range(0, len(row['df']), 1000)]\n",
    "            xs = np.linspace(0, len(ys), len(ys))\n",
    "            c = 'r' if row['algo'] == \"bernoulli\" else 'g'\n",
    "            plt.plot(xs, ys, c=c, label=row['algo'])\n",
    "\n",
    "    title = \"log_mc_estimate_vs_nz_(n={}_c={}_s={}_l={}_ne={})\".format(n, 4, 5, tail, 10000)\n",
    "    plt.title(title)\n",
    "    plt.rcParams[\"figure.figsize\"] = (15,15)\n",
    "    plt.yscale('log')\n",
    "    plt.ylabel(\"mc estimate\")\n",
    "    plt.xlabel(\"nz\")\n",
    "    plt.legend()\n",
    "    plt.show()"
   ]
  },
  {
   "cell_type": "code",
   "execution_count": null,
   "metadata": {
    "collapsed": true
   },
   "outputs": [],
   "source": [
    "\n",
    "for tail in [0.1]:\n",
    "    for row in rows:\n",
    "        if row['l'] == tail:\n",
    "            xs = np.linspace(0, len(row['df']), len(row['df']))\n",
    "            ys = row['df']\n",
    "            c = 'r' if row['algo'] == \"bernoulli\" else 'g'\n",
    "            plt.plot(xs, ys, c=c, label=row['algo'])\n",
    "\n",
    "    title = \"log_mc_estimate_vs_nz_(n={}_c={}_s={}_l={}_ne={})\".format(2500, 4, 5, tail, 10000)\n",
    "    plt.title(title)\n",
    "    plt.rcParams[\"figure.figsize\"] = (15,15)\n",
    "    plt.yscale('log')\n",
    "    plt.ylabel(\"mc estimate\")\n",
    "    plt.xlabel(\"nz\")\n",
    "    plt.legend()\n",
    "    plt.savefig(\"{}.pdf\".format(title))"
   ]
  },
  {
   "cell_type": "code",
   "execution_count": null,
   "metadata": {
    "collapsed": true
   },
   "outputs": [],
   "source": []
  }
 ],
 "metadata": {
  "kernelspec": {
   "display_name": "Python 3",
   "language": "python",
   "name": "python3"
  },
  "language_info": {
   "codemirror_mode": {
    "name": "ipython",
    "version": 3
   },
   "file_extension": ".py",
   "mimetype": "text/x-python",
   "name": "python",
   "nbconvert_exporter": "python",
   "pygments_lexer": "ipython3",
   "version": "3.6.1"
  }
 },
 "nbformat": 4,
 "nbformat_minor": 1
}
