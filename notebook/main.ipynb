{
 "cells": [
  {
   "cell_type": "markdown",
   "metadata": {},
   "source": [
    "# Goal\n",
    "\n",
    "- Compare the different algorithms, in particular `onelvlISCLT_mc`"
   ]
  },
  {
   "cell_type": "code",
   "execution_count": null,
   "metadata": {
    "collapsed": false
   },
   "outputs": [],
   "source": [
    "using Pkg; Pkg.activate(\"..\")"
   ]
  },
  {
   "cell_type": "code",
   "execution_count": null,
   "metadata": {
    "collapsed": false,
    "scrolled": false
   },
   "outputs": [],
   "source": [
    "using Revise\n",
    "using PyPlot\n",
    "using Serialization\n",
    "import CreditRisk"
   ]
  },
  {
   "cell_type": "code",
   "execution_count": null,
   "metadata": {
    "collapsed": false
   },
   "outputs": [],
   "source": [
    "n = 10000\n",
    "c = 4\n",
    "s = 5\n",
    "l = 0.2\n",
    "nz = 1000\n",
    "ne = 1000\n",
    "param = CreditRisk.Parameter(n,c,s,l)"
   ]
  },
  {
   "cell_type": "code",
   "execution_count": null,
   "metadata": {
    "collapsed": false
   },
   "outputs": [],
   "source": [
    "glestimates = []\n",
    "open(\"../gl_long.txt\", \"r\") do io\n",
    "    global glestimates = deserialize(io)\n",
    "end\n",
    "print(size(glestimates))\n",
    "print(glestimates[1:10])"
   ]
  },
  {
   "cell_type": "code",
   "execution_count": null,
   "metadata": {
    "collapsed": false
   },
   "outputs": [],
   "source": [
    "iters = 100000\n",
    "@time estimates, lowers, uppers = CreditRisk.onelvl_mc(param, iters)"
   ]
  },
  {
   "cell_type": "code",
   "execution_count": null,
   "metadata": {
    "collapsed": false
   },
   "outputs": [],
   "source": [
    "@time gl_estimates = CreditRisk.glassermanli_mc(param, (1000,1000))\n",
    "gl_estimates[1:10]"
   ]
  },
  {
   "cell_type": "code",
   "execution_count": null,
   "metadata": {
    "collapsed": false
   },
   "outputs": [],
   "source": [
    "plt[:plot](estimates)  # blue\n",
    "plt[:plot](lowers)\n",
    "plt[:plot](uppers)\n",
    "plt[:plot](gl_estimates)  # blue"
   ]
  },
  {
   "cell_type": "code",
   "execution_count": null,
   "metadata": {
    "collapsed": false
   },
   "outputs": [],
   "source": [
    "onelvlISCLT = []\n",
    "for i in 1:1\n",
    "    # 10000 * 5 * 8 = 400 000 byte: pretty trivial\n",
    "    @time p = CreditRisk.onelvlISCLT_mc(param, 50)\n",
    "    push!(onelvlISCLT, p)\n",
    "end\n",
    "onelvlISCLT"
   ]
  },
  {
   "cell_type": "code",
   "execution_count": null,
   "metadata": {
    "collapsed": false
   },
   "outputs": [],
   "source": [
    "eps(Float64)"
   ]
  },
  {
   "cell_type": "code",
   "execution_count": null,
   "metadata": {
    "collapsed": true
   },
   "outputs": [],
   "source": []
  }
 ],
 "metadata": {
  "kernelspec": {
   "display_name": "Julia 0.7.0",
   "language": "julia",
   "name": "julia-0.7"
  },
  "language_info": {
   "file_extension": ".jl",
   "mimetype": "application/julia",
   "name": "julia",
   "version": "0.7.0"
  }
 },
 "nbformat": 4,
 "nbformat_minor": 0
}
