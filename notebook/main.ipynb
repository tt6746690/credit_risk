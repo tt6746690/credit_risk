{
 "cells": [
  {
   "cell_type": "markdown",
   "metadata": {},
   "source": [
    "# Goal\n",
    "\n",
    "- Compare the different algorithms, in particular `onelvlISCLT_mc`"
   ]
  },
  {
   "cell_type": "code",
   "execution_count": null,
   "metadata": {
    "collapsed": false
   },
   "outputs": [],
   "source": [
    "using Pkg; Pkg.activate(\"..\")"
   ]
  },
  {
   "cell_type": "code",
   "execution_count": null,
   "metadata": {
    "collapsed": false
   },
   "outputs": [],
   "source": [
    "using Revise\n",
    "using PyPlot\n",
    "import CreditRisk"
   ]
  },
  {
   "cell_type": "code",
   "execution_count": null,
   "metadata": {
    "collapsed": false
   },
   "outputs": [],
   "source": [
    "n = 10000\n",
    "c = 4\n",
    "s = 5\n",
    "l = 0.2KK\n",
    "nz = 1000\n",
    "ne = 1000\n",
    "param = CreditRisk.Parameter(n,c,s,l)"
   ]
  },
  {
   "cell_type": "code",
   "execution_count": null,
   "metadata": {
    "collapsed": false
   },
   "outputs": [],
   "source": [
    "bernoulli = []\n",
    "for i in 1:5\n",
    "    @time p = CreditRisk.bernoulli_mc(param, (nz, ne))\n",
    "    push!(bernoulli, p)\n",
    "end\n",
    "bernoulli"
   ]
  },
  {
   "cell_type": "code",
   "execution_count": null,
   "metadata": {
    "collapsed": false
   },
   "outputs": [],
   "source": [
    "onelvl = []\n",
    "for i in 1:5\n",
    "    @time p = CreditRisk.onelvl_mc(param, 10000)\n",
    "    push!(onelvl, p)\n",
    "end\n",
    "onelvl\n",
    "#  0.008159158872400962\n",
    "#  0.007851319866002428\n",
    "#  0.008741955382545033\n",
    "#  0.00832621259178807 \n",
    "#  0.006823484400499794"
   ]
  },
  {
   "cell_type": "code",
   "execution_count": null,
   "metadata": {
    "collapsed": false
   },
   "outputs": [],
   "source": [
    "iters = 100000\n",
    "@time estimates, lowers, uppers = CreditRisk.onelvl_mc(param, iters)"
   ]
  },
  {
   "cell_type": "code",
   "execution_count": null,
   "metadata": {
    "collapsed": false
   },
   "outputs": [],
   "source": [
    "@time gl_estimates = CreditRisk.glassermanli_mc(param, (1000,1000))"
   ]
  },
  {
   "cell_type": "code",
   "execution_count": null,
   "metadata": {
    "collapsed": false
   },
   "outputs": [],
   "source": [
    "plt[:plot](estimates)  # blue\n",
    "plt[:plot](lowers)\n",
    "plt[:plot](uppers)\n",
    "plt[:plot](gl_estimates)  # blue"
   ]
  },
  {
   "cell_type": "code",
   "execution_count": null,
   "metadata": {
    "collapsed": false
   },
   "outputs": [],
   "source": [
    "onelvlISCLT = []\n",
    "for i in 1:1\n",
    "    # 10000 * 5 * 8 = 400 000 byte: pretty trivial\n",
    "    @time p = CreditRisk.onelvlISCLT_mc(param, 50)\n",
    "    push!(onelvlISCLT, p)\n",
    "end\n",
    "onelvlISCLT"
   ]
  },
  {
   "cell_type": "code",
   "execution_count": null,
   "metadata": {
    "collapsed": false
   },
   "outputs": [],
   "source": [
    "eps(Float64)"
   ]
  },
  {
   "cell_type": "code",
   "execution_count": null,
   "metadata": {
    "collapsed": true
   },
   "outputs": [],
   "source": []
  }
 ],
 "metadata": {
  "kernelspec": {
   "display_name": "Julia 0.7.0",
   "language": "julia",
   "name": "julia-0.7"
  },
  "language_info": {
   "file_extension": ".jl",
   "mimetype": "application/julia",
   "name": "julia",
   "version": "0.7.0"
  }
 },
 "nbformat": 4,
 "nbformat_minor": 0
}
